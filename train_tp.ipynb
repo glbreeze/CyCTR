{
 "cells": [
  {
   "cell_type": "code",
   "execution_count": null,
   "id": "b54b7558",
   "metadata": {},
   "outputs": [],
   "source": [
    "import os\n",
    "import random\n",
    "import time\n",
    "import cv2\n",
    "import numpy as np\n",
    "import logging\n",
    "import argparse\n",
    "\n",
    "import torch\n",
    "import torch.backends.cudnn as cudnn\n",
    "import torch.nn as nn\n",
    "import torch.nn.functional as F\n",
    "import torch.nn.parallel\n",
    "import torch.optim\n",
    "import torch.utils.data\n",
    "import torch.multiprocessing as mp\n",
    "import torch.distributed as dist\n",
    "from tensorboardX import SummaryWriter\n",
    "\n",
    "from model.CyCTR import CyCTR   \n",
    "from util import dataset\n",
    "from util import transform, config\n",
    "from util.util import AverageMeter, poly_learning_rate, step_learning_rate, intersectionAndUnionGPU"
   ]
  },
  {
   "cell_type": "code",
   "execution_count": 3,
   "id": "89c6e48e",
   "metadata": {},
   "outputs": [],
   "source": [
    "from torch.hub import load_state_dict_from_url"
   ]
  },
  {
   "cell_type": "code",
   "execution_count": null,
   "id": "25bf8d1a",
   "metadata": {},
   "outputs": [],
   "source": []
  }
 ],
 "metadata": {
  "kernelspec": {
   "display_name": "Python 3 (ipykernel)",
   "language": "python",
   "name": "python3"
  },
  "language_info": {
   "codemirror_mode": {
    "name": "ipython",
    "version": 3
   },
   "file_extension": ".py",
   "mimetype": "text/x-python",
   "name": "python",
   "nbconvert_exporter": "python",
   "pygments_lexer": "ipython3",
   "version": "3.7.11"
  }
 },
 "nbformat": 4,
 "nbformat_minor": 5
}
